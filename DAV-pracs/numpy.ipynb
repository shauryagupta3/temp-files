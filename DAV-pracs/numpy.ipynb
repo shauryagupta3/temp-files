{
 "cells": [
  {
   "cell_type": "code",
   "execution_count": 1,
   "id": "897f902e-cdbf-44fd-b69a-826852fdb390",
   "metadata": {},
   "outputs": [],
   "source": [
    "import numpy as np"
   ]
  },
  {
   "cell_type": "code",
   "execution_count": 2,
   "id": "f74af95e",
   "metadata": {},
   "outputs": [
    {
     "name": "stdout",
     "output_type": "stream",
     "text": [
      "(a)\n",
      "\n",
      "[[0.69720883 0.24873758 0.99229429 0.1199161 ]\n",
      " [0.96963435 0.38997783 0.78749172 0.608724  ]\n",
      " [0.86625037 0.13626146 0.67039575 0.33887831]]\n",
      "\n",
      "Mean :  [0.5145392  0.68895698 0.50294647]\n",
      "Standard Deviation :  [0.34928356 0.21465947 0.28346307]\n",
      "Variance :  [0.121999   0.04607869 0.08035131]\n",
      "\n"
     ]
    }
   ],
   "source": [
    "# a. Create a 2D array with random values from 0 to 1\n",
    "print(\"(a)\")\n",
    "print()\n",
    "\n",
    "ARR1 = np.random.rand(3, 4)\n",
    "\n",
    "print(ARR1)\n",
    "print()\n",
    "\n",
    "mean_arr = np.mean(ARR1, axis=1)\n",
    "std_dev_arr = np.std(ARR1, axis=1)\n",
    "variance_arr = np.var(ARR1, axis=1)\n",
    "\n",
    "print(\"Mean : \", mean_arr)\n",
    "print(\"Standard Deviation : \", std_dev_arr)\n",
    "print(\"Variance : \", variance_arr)\n",
    "\n",
    "print()"
   ]
  },
  {
   "cell_type": "code",
   "execution_count": 3,
   "id": "373013d3",
   "metadata": {},
   "outputs": [
    {
     "name": "stdout",
     "output_type": "stream",
     "text": [
      "(b)\n",
      "\n",
      "\n",
      "Random Array : \n",
      " [[34 79]\n",
      " [ 3 53]]\n",
      "\n",
      "Shape: (2, 2)\n",
      "Type: <class 'numpy.ndarray'>\n",
      "Data Type: int64\n",
      "\n",
      "Reshaped Array : \n",
      " [[34 79]\n",
      " [ 3 53]]\n",
      "\n"
     ]
    }
   ],
   "source": [
    "# b. Create a 2D array of size m x n and reshape it\n",
    "print(\"(b)\")\n",
    "print()\n",
    "\n",
    "m = int(input(\"Enter the number of rows (m): \"))\n",
    "n = int(input(\"Enter the number of columns (n): \"))\n",
    "\n",
    "ARR2 = np.random.randint(1, 100, size=(m, n))\n",
    "\n",
    "print()\n",
    "print(\"Random Array : \\n\", ARR2)\n",
    "print()\n",
    "\n",
    "print(\"Shape:\", ARR2.shape)\n",
    "print(\"Type:\", type(ARR2))\n",
    "print(\"Data Type:\", ARR2.dtype)\n",
    "print()\n",
    "\n",
    "ARR2_reshaped = ARR2.reshape((n, m))\n",
    "\n",
    "print(\"Reshaped Array : \\n\", ARR2_reshaped)\n",
    "\n",
    "print()"
   ]
  },
  {
   "cell_type": "code",
   "execution_count": 4,
   "id": "b28973c0",
   "metadata": {},
   "outputs": [
    {
     "name": "stdout",
     "output_type": "stream",
     "text": [
      "(c)\n",
      "\n",
      "Zero Indices :  [0]\n",
      "Non-Zero Indices :  [1 2 3 4 5]\n",
      "NAN Indices :  [4]\n",
      "\n"
     ]
    }
   ],
   "source": [
    "# c. Test elements of an array\n",
    "print(\"(c)\")\n",
    "print()\n",
    "\n",
    "ID_array = np.array([0, 1, 2, 3, np.nan, 5])\n",
    "\n",
    "is_zero = ID_array == 0\n",
    "is_non_zero = ID_array != 0\n",
    "is_nan = np.isnan(ID_array)\n",
    "\n",
    "zero_indices = np.where(is_zero)[0]\n",
    "non_zero_indices = np.where(is_non_zero)[0]\n",
    "nan_indices = np.where(is_nan)[0]\n",
    "\n",
    "print(\"Zero Indices : \", zero_indices)\n",
    "print(\"Non-Zero Indices : \", non_zero_indices)\n",
    "print(\"NAN Indices : \", nan_indices)\n",
    "\n",
    "print()"
   ]
  },
  {
   "cell_type": "code",
   "execution_count": 5,
   "id": "cf0a7130",
   "metadata": {},
   "outputs": [
    {
     "name": "stdout",
     "output_type": "stream",
     "text": [
      "(d)\n",
      "\n",
      "Covariance :  -0.06237984206072267\n",
      "Correlation :  1.0\n",
      "\n"
     ]
    }
   ],
   "source": [
    "# d. Create and perform operations on arrays\n",
    "print(\"(d)\")\n",
    "print()\n",
    "\n",
    "Array1 = np.random.rand(3, 3)\n",
    "Array2 = np.random.rand(3, 3)\n",
    "Array3 = np.random.rand(3, 3)\n",
    "\n",
    "Array4 = Array3 - Array2\n",
    "Array5 = 2 * Array1\n",
    "\n",
    "covariance = np.cov(Array1.flatten(), Array4.flatten())[0, 1]\n",
    "correlation = np.corrcoef(Array1.flatten(), Array5.flatten())[0, 1]\n",
    "\n",
    "print(\"Covariance : \", covariance)\n",
    "print(\"Correlation : \", correlation)\n",
    "\n",
    "print()"
   ]
  },
  {
   "cell_type": "code",
   "execution_count": 6,
   "id": "3c934b2a",
   "metadata": {},
   "outputs": [
    {
     "name": "stdout",
     "output_type": "stream",
     "text": [
      "(e)\n",
      "\n",
      "Sum of First Half of Both Arrays :  5.06239396459147\n",
      "Product of Second Half of Both Arrays :  0.00012070136422607078\n",
      "\n"
     ]
    }
   ],
   "source": [
    "# e. Sum and product of two arrays\n",
    "print(\"(e)\")\n",
    "print()\n",
    "\n",
    "Array6 = np.random.rand(10)\n",
    "Array7 = np.random.rand(10)\n",
    "\n",
    "sum_first_half = np.sum(Array6[:5]) + np.sum(Array7[:5])\n",
    "product_second_half = np.prod(Array6[5:]) * np.prod(Array7[5:])\n",
    "\n",
    "print(\"Sum of First Half of Both Arrays : \", sum_first_half)\n",
    "print(\"Product of Second Half of Both Arrays : \", product_second_half)\n",
    "\n",
    "print()"
   ]
  },
  {
   "cell_type": "code",
   "execution_count": 7,
   "id": "824351ea",
   "metadata": {},
   "outputs": [
    {
     "name": "stdout",
     "output_type": "stream",
     "text": [
      "(f)\n",
      "\n",
      "Random Array :  [[0.84722038 0.6387215  0.0161146  ... 0.3683099  0.0991431  0.43955842]\n",
      " [0.25365117 0.2689119  0.62779609 ... 0.68544872 0.0346554  0.46683944]\n",
      " [0.99605006 0.0544433  0.87657948 ... 0.99401566 0.82010613 0.99634576]\n",
      " ...\n",
      " [0.90565948 0.31705992 0.94000747 ... 0.8460632  0.63151425 0.93452828]\n",
      " [0.90603721 0.18426174 0.50774167 ... 0.39382406 0.87163449 0.48258369]\n",
      " [0.5688269  0.03867716 0.67491621 ... 0.40699954 0.59960759 0.46259685]]\n",
      "\n",
      "Memory Size :  80000\n",
      "\n"
     ]
    }
   ],
   "source": [
    "# f. Size of memory occupied by an array\n",
    "print(\"(f)\")\n",
    "print()\n",
    "\n",
    "Array8 = np.random.rand(100, 100)\n",
    "memory_size = Array8.nbytes\n",
    "\n",
    "print(\"Random Array : \", Array8)\n",
    "print()\n",
    "\n",
    "print(\"Memory Size : \", memory_size)\n",
    "\n",
    "print()"
   ]
  },
  {
   "cell_type": "code",
   "execution_count": 8,
   "id": "7ca2585b",
   "metadata": {},
   "outputs": [
    {
     "name": "stdout",
     "output_type": "stream",
     "text": [
      "(g)\n",
      "\n",
      "Random Array :  [[31 56 32]\n",
      " [32 55 29]\n",
      " [23 78 60]\n",
      " [98 48 62]]\n",
      "Array with Rows Swapped and Column Reversed :  [[31 56 32]\n",
      " [32 55 29]\n",
      " [23 78 60]\n",
      " [98 48 62]]\n"
     ]
    }
   ],
   "source": [
    "# g. Create, manipulate, and store a 2D array\n",
    "print(\"(g)\")\n",
    "print()\n",
    "\n",
    "m = 4\n",
    "n = 3\n",
    "Array9 = np.random.randint(10, 100, size=(m, n))\n",
    "\n",
    "Array9[[0, 1]] = Array9[[1, 0]]\n",
    "Array9[:, 1] = np.flip(Array9[:, 1])\n",
    "\n",
    "Array10 = Array9.copy()\n",
    "\n",
    "print(\"Random Array : \", Array9)\n",
    "\n",
    "print(\"Array with Rows Swapped and Column Reversed : \", Array10)"
   ]
  }
 ],
 "metadata": {
  "kernelspec": {
   "display_name": "Python 3 (ipykernel)",
   "language": "python",
   "name": "python3"
  },
  "language_info": {
   "codemirror_mode": {
    "name": "ipython",
    "version": 3
   },
   "file_extension": ".py",
   "mimetype": "text/x-python",
   "name": "python",
   "nbconvert_exporter": "python",
   "pygments_lexer": "ipython3",
   "version": "3.12.0"
  }
 },
 "nbformat": 4,
 "nbformat_minor": 5
}
