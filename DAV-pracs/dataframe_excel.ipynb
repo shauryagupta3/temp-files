{
 "cells": [
  {
   "cell_type": "code",
   "execution_count": 8,
   "id": "e9f86ab7",
   "metadata": {},
   "outputs": [],
   "source": [
    "import pandas as pd"
   ]
  },
  {
   "cell_type": "code",
   "execution_count": 9,
   "id": "07ed4712",
   "metadata": {},
   "outputs": [
    {
     "name": "stdout",
     "output_type": "stream",
     "text": [
      "0    Mary\n",
      "Name: Name, dtype: object\n"
     ]
    }
   ],
   "source": [
    "df1 = pd.read_excel(\"workshop1.xlsx\")\n",
    "df2 = pd.read_excel(\"workshop2.xlsx\")\n",
    "\n",
    "common_attendees = pd.merge(df1, df2, on=[\"Name\", \"Date\", \"duration\"])\n",
    "\n",
    "print(common_attendees[\"Name\"])"
   ]
  },
  {
   "cell_type": "code",
   "execution_count": 10,
   "id": "a117a38c",
   "metadata": {},
   "outputs": [
    {
     "name": "stdout",
     "output_type": "stream",
     "text": [
      "0     John\n",
      "1     Jane\n",
      "3    James\n",
      "4    Clark\n",
      "5     Will\n",
      "Name: Name, dtype: object\n"
     ]
    }
   ],
   "source": [
    "single_attendees = pd.merge(\n",
    "    df1, df2, on=[\"Name\", \"Date\", \"duration\"], how=\"outer\", indicator=True\n",
    ")\n",
    "\n",
    "single_workshop_only = single_attendees[single_attendees[\"_merge\"] == \"left_only\"]\n",
    "\n",
    "print(single_workshop_only[\"Name\"])"
   ]
  },
  {
   "cell_type": "code",
   "execution_count": 11,
   "id": "14d52bf1",
   "metadata": {},
   "outputs": [
    {
     "name": "stdout",
     "output_type": "stream",
     "text": [
      "Total Number of Records: 12\n"
     ]
    }
   ],
   "source": [
    "merged_df = pd.concat([df1, df2])\n",
    "\n",
    "total_records = len(merged_df)\n",
    "\n",
    "print(\"Total Number of Records:\", total_records)"
   ]
  },
  {
   "cell_type": "code",
   "execution_count": 12,
   "id": "d4fd3e6c",
   "metadata": {},
   "outputs": [
    {
     "name": "stdout",
     "output_type": "stream",
     "text": [
      "                    duration\n",
      "Name    Date                \n",
      "John    2023-01-01         2\n",
      "Jane    2023-01-02         3\n",
      "Mary    2023-01-03         1\n",
      "James   2023-01-04         4\n",
      "Clark   2023-01-05         2\n",
      "Will    2023-01-06         3\n",
      "Bob     2023-01-04         2\n",
      "Kate    2023-01-05         3\n",
      "Mary    2023-01-03         1\n",
      "Lucifer 2023-01-06         4\n",
      "Jenny   2023-01-07         2\n",
      "Joey    2023-01-08         3\n",
      "       duration\n",
      "count      12.0\n",
      "mean        2.5\n",
      "std         1.0\n",
      "min         1.0\n",
      "25%         2.0\n",
      "50%         2.5\n",
      "75%         3.0\n",
      "max         4.0\n"
     ]
    }
   ],
   "source": [
    "merged_df = pd.concat([df1, df2]).set_index([\"Name\", \"Date\"])\n",
    "\n",
    "print(merged_df)\n",
    "\n",
    "# Descriptive Stats\n",
    "stats = merged_df.describe()\n",
    "\n",
    "print(stats)"
   ]
  },
  {
   "cell_type": "code",
   "execution_count": null,
   "id": "1347eb3a",
   "metadata": {},
   "outputs": [],
   "source": []
  }
 ],
 "metadata": {
  "kernelspec": {
   "display_name": "Python 3 (ipykernel)",
   "language": "python",
   "name": "python3"
  },
  "language_info": {
   "codemirror_mode": {
    "name": "ipython",
    "version": 3
   },
   "file_extension": ".py",
   "mimetype": "text/x-python",
   "name": "python",
   "nbconvert_exporter": "python",
   "pygments_lexer": "ipython3",
   "version": "3.12.0"
  }
 },
 "nbformat": 4,
 "nbformat_minor": 5
}
