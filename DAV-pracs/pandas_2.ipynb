{
 "cells": [
  {
   "cell_type": "code",
   "execution_count": 2,
   "id": "c390f64d",
   "metadata": {},
   "outputs": [],
   "source": [
    "import pandas as pd\n",
    "\n",
    "data = {'FamilyName': ['Shah', 'Vats', 'Vats', 'Kumar', 'Vats', 'Kumar', 'Shah', 'Shah', 'Kumar', 'Vats'],\n",
    "        'Gender': ['Male', 'Male', 'Female', 'Female', 'Female', 'Male', 'Male', 'Female', 'Female', 'Male'],\n",
    "        'MonthlyIncome': [44000.00, 65000.00, 43150.00, 66500.00, 255000.00, 103000.00, 55000.00, 112400.00, 81030.00, 71900.00]}\n",
    "\n",
    "df = pd.DataFrame(data)"
   ]
  },
  {
   "cell_type": "code",
   "execution_count": 3,
   "id": "05036a3c",
   "metadata": {},
   "outputs": [
    {
     "name": "stdout",
     "output_type": "stream",
     "text": [
      "\n",
      "a. Familywise Gross Monthly Income : \n",
      "FamilyName\n",
      "Kumar    250530.0\n",
      "Shah     211400.0\n",
      "Vats     435050.0\n",
      "Name: MonthlyIncome, dtype: float64\n",
      "\n"
     ]
    }
   ],
   "source": [
    "# a. Calculate and display familywise gross monthly income.\n",
    "familywise_gross = df.groupby(\"FamilyName\")[\"MonthlyIncome\"].sum()\n",
    "print()\n",
    "print(\"a. Familywise Gross Monthly Income : \")\n",
    "print(familywise_gross)\n",
    "print()"
   ]
  },
  {
   "cell_type": "code",
   "execution_count": 4,
   "id": "72126e8b",
   "metadata": {},
   "outputs": [
    {
     "name": "stdout",
     "output_type": "stream",
     "text": [
      "b. Highest Monthly Income : \n",
      "FamilyName\n",
      "Kumar    103000.0\n",
      "Shah     112400.0\n",
      "Vats     255000.0\n",
      "Name: MonthlyIncome, dtype: float64\n",
      "\n",
      "Lowest Monthly Income : \n",
      "FamilyName\n",
      "Kumar    66500.0\n",
      "Shah     44000.0\n",
      "Vats     43150.0\n",
      "Name: MonthlyIncome, dtype: float64\n",
      "\n"
     ]
    }
   ],
   "source": [
    "# b. Display the highest and lowest monthly income for each family name.\n",
    "highest_income = df.groupby(\"FamilyName\")[\"MonthlyIncome\"].max()\n",
    "lowest_income = df.groupby(\"FamilyName\")[\"MonthlyIncome\"].min()\n",
    "print(\"b. Highest Monthly Income : \")\n",
    "print(highest_income)\n",
    "print()\n",
    "print(\"Lowest Monthly Income : \")\n",
    "print(lowest_income)\n",
    "print()"
   ]
  },
  {
   "cell_type": "code",
   "execution_count": 5,
   "id": "f98d6147",
   "metadata": {},
   "outputs": [
    {
     "name": "stdout",
     "output_type": "stream",
     "text": [
      "c. Monthly Income of Members Earning Less than Rs. 80000.00:\n",
      "  FamilyName  MonthlyIncome\n",
      "0       Shah        44000.0\n",
      "1       Vats        65000.0\n",
      "2       Vats        43150.0\n",
      "3      Kumar        66500.0\n",
      "6       Shah        55000.0\n",
      "9       Vats        71900.0\n",
      "\n"
     ]
    }
   ],
   "source": [
    "# c. Calculate and display monthly income of all members earning less than Rs. 80000.00.\n",
    "income_below_80000 = df[df[\"MonthlyIncome\"] < 80000.00]\n",
    "print(\"c. Monthly Income of Members Earning Less than Rs. 80000.00:\")\n",
    "print(income_below_80000[[\"FamilyName\", \"MonthlyIncome\"]])\n",
    "print()"
   ]
  },
  {
   "cell_type": "code",
   "execution_count": 6,
   "id": "27d5c140",
   "metadata": {},
   "outputs": [
    {
     "name": "stdout",
     "output_type": "stream",
     "text": [
      "d. Total Number of Females and Their Average Monthly Income : \n",
      "Total Females : 5\n",
      "Average Monthly Income of Females : 111616.00\n",
      "\n"
     ]
    }
   ],
   "source": [
    "# d. Display total number of females along with their average monthly income.\n",
    "female_data = df[df[\"Gender\"] == \"Female\"]\n",
    "total_females = female_data.shape[0]\n",
    "average_income_female = female_data[\"MonthlyIncome\"].mean()\n",
    "print(\"d. Total Number of Females and Their Average Monthly Income : \")\n",
    "print(f\"Total Females : {total_females}\")\n",
    "print(f\"Average Monthly Income of Females : {average_income_female:.2f}\")\n",
    "print()"
   ]
  },
  {
   "cell_type": "code",
   "execution_count": 7,
   "id": "3b40c094",
   "metadata": {},
   "outputs": [
    {
     "name": "stdout",
     "output_type": "stream",
     "text": [
      "e. DataFrame after deleting rows with Monthly income less than the average income : \n",
      "  FamilyName  Gender  MonthlyIncome\n",
      "4       Vats  Female       255000.0\n",
      "5      Kumar    Male       103000.0\n",
      "7       Shah  Female       112400.0\n"
     ]
    }
   ],
   "source": [
    "# e. Delete rows with Monthly income less than the average income of all members.\n",
    "average_income_all = df[\"MonthlyIncome\"].mean()\n",
    "df = df[df[\"MonthlyIncome\"] >= average_income_all]\n",
    "print(\n",
    "    \"e. DataFrame after deleting rows with Monthly income less than the average income : \"\n",
    ")\n",
    "print(df)"
   ]
  },
  {
   "cell_type": "code",
   "execution_count": null,
   "id": "dd359811",
   "metadata": {},
   "outputs": [],
   "source": []
  }
 ],
 "metadata": {
  "kernelspec": {
   "display_name": "Python 3 (ipykernel)",
   "language": "python",
   "name": "python3"
  },
  "language_info": {
   "codemirror_mode": {
    "name": "ipython",
    "version": 3
   },
   "file_extension": ".py",
   "mimetype": "text/x-python",
   "name": "python",
   "nbconvert_exporter": "python",
   "pygments_lexer": "ipython3",
   "version": "3.12.0"
  }
 },
 "nbformat": 4,
 "nbformat_minor": 5
}
