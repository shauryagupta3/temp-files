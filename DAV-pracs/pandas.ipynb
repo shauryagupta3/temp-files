{
 "cells": [
  {
   "cell_type": "code",
   "execution_count": 9,
   "id": "897f902e-cdbf-44fd-b69a-826852fdb390",
   "metadata": {},
   "outputs": [],
   "source": [
    "import numpy as np\n",
    "import pandas as pd"
   ]
  },
  {
   "cell_type": "code",
   "execution_count": 10,
   "id": "46d10f95",
   "metadata": {},
   "outputs": [
    {
     "name": "stdout",
     "output_type": "stream",
     "text": [
      "Sorted by Index:\n",
      "0    3\n",
      "1    1\n",
      "2    4\n",
      "3    2\n",
      "4    5\n",
      "dtype: int64\n",
      "\n",
      "Sorted by Values:\n",
      "1    1\n",
      "3    2\n",
      "0    3\n",
      "2    4\n",
      "4    5\n",
      "dtype: int64\n"
     ]
    }
   ],
   "source": [
    "# (a)Create a series with 5 elements. Display the series sorted on index and also sorted on values seperately.\n",
    "\n",
    "lst1 = [3, 1, 4, 2, 5]\n",
    "s1 = pd.Series(lst1)\n",
    "\n",
    "indexSort = s1.sort_index()\n",
    "\n",
    "valueSort = s1.sort_values()\n",
    "\n",
    "print(\"Sorted by Index:\")\n",
    "print(indexSort)\n",
    "print(\"\\nSorted by Values:\")\n",
    "print(valueSort)"
   ]
  },
  {
   "cell_type": "code",
   "execution_count": 11,
   "id": "b6a5ecb1",
   "metadata": {},
   "outputs": [
    {
     "name": "stdout",
     "output_type": "stream",
     "text": [
      "Minimum Rank using First Method : 1.0\n",
      "Maximum Rank using Max Method : 6.0\n"
     ]
    }
   ],
   "source": [
    "\"\"\"(b)Create a series with N elements with some duplicate values.\n",
    "Find the minimum and maximum ranks assigned to the values using ‘first’ and ‘max’ methods.\"\"\"\n",
    "\n",
    "\n",
    "lst2 = [3, 1, 4, 2, 1, 5]\n",
    "s2 = pd.Series(lst2)\n",
    "\n",
    "minFirst = s2.rank(method=\"first\").min()\n",
    "\n",
    "max = s2.rank(method=\"max\").max()\n",
    "\n",
    "print(\"Minimum Rank using First Method :\", minFirst)\n",
    "print(\"Maximum Rank using Max Method :\", max)"
   ]
  },
  {
   "cell_type": "code",
   "execution_count": 12,
   "id": "f2d76c89",
   "metadata": {},
   "outputs": [
    {
     "name": "stdout",
     "output_type": "stream",
     "text": [
      "Index of Minimum Element: 1\n",
      "Index of Maximum Element: 4\n"
     ]
    }
   ],
   "source": [
    "# (c) Display the index value of the minimum and maximum element of a Series.\n",
    "\n",
    "\n",
    "lst3 = [3, 1, 4, 2, 5]\n",
    "s3 = pd.Series(lst3)\n",
    "\n",
    "minIndex = s3.idxmin()\n",
    "\n",
    "maxIndex = s3.idxmax()\n",
    "\n",
    "print(\"Index of Minimum Element:\", minIndex)\n",
    "print(\"Index of Maximum Element:\", maxIndex)"
   ]
  }
 ],
 "metadata": {
  "kernelspec": {
   "display_name": "Python 3 (ipykernel)",
   "language": "python",
   "name": "python3"
  },
  "language_info": {
   "codemirror_mode": {
    "name": "ipython",
    "version": 3
   },
   "file_extension": ".py",
   "mimetype": "text/x-python",
   "name": "python",
   "nbconvert_exporter": "python",
   "pygments_lexer": "ipython3",
   "version": "3.12.0"
  }
 },
 "nbformat": 4,
 "nbformat_minor": 5
}
